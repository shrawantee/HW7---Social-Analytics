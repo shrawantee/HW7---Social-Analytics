{
 "cells": [
  {
   "cell_type": "markdown",
   "metadata": {},
   "source": [
    "Create a Python script to perform a sentiment analysis of the Twitter activity of various news outlets, and to present your findings visually.\n",
    "\n",
    "--> Your final output should provide a visualized summary of the sentiments expressed in Tweets sent out by the following news organizations: **BBC, CBS, CNN, Fox, and New York times**.\n",
    "\n",
    "---------------------------------------------------------------------------------------------------------\n",
    "1. The first plot will be and/or feature the following:\n",
    "\n",
    "* Be a scatter plot of sentiments of the last **100** tweets sent out by each news organization, ranging from -1.0 to 1.0, where a score of 0 expresses a neutral sentiment, -1 the most negative sentiment possible, and +1 the most positive sentiment possible.\n",
    "* Each plot point will reflect the _compound_ sentiment of a tweet.\n",
    "* Sort each plot point by its relative timestamp.\n",
    "\n",
    "--------------------------------------------------------------------------------------------------------\n",
    "2. The second plot will be a bar plot visualizing the _overall_ sentiments of the last 100 tweets from each organization. For this plot, you will again aggregate the compound sentiments analyzed by VADER.\n",
    "\n",
    "--------------------------------------------------------------------------------------------------------\n",
    "\n",
    "The tools of the trade you will need for your task as a data analyst include the following: tweepy, pandas, matplotlib, and VADER.\n",
    "\n",
    "--------------------------------------------------------------------------------------------------------\n",
    "Your final Jupyter notebook must:\n",
    "\n",
    "* Pull last 100 tweets from each outlet.\n",
    "* Perform a sentiment analysis with the compound, positive, neutral, and negative scoring for each tweet.\n",
    "* Pull into a DataFrame the tweet's source account, its text, its date, and its compound, positive, neutral, and negative sentiment scores.\n",
    "* Export the data in the DataFrame into a CSV file.\n",
    "* Save PNG images for each plot.\n",
    "\n",
    "--------------------------------------------------------------------------------------------------------\n",
    "As final considerations:\n",
    "\n",
    "* You must complete your analysis using a Jupyter notebook.\n",
    "* You must use the Matplotlib or Pandas plotting libraries.\n",
    "* Include a written description of THREE observable trends based on the data.\n",
    "* Include proper labeling of your plots, including plot titles (with date of analysis) and axes labels.\n"
   ]
  },
  {
   "cell_type": "code",
   "execution_count": 2,
   "metadata": {},
   "outputs": [],
   "source": [
    "#Import Dependencies\n",
    "%matplotlib inline\n",
    "import pandas as pd\n",
    "import numpy as np\n",
    "import matplotlib.pyplot as plt\n",
    "from datetime import datetime\n",
    "import time\n",
    "import tweepy\n",
    "from pprint import pprint"
   ]
  },
  {
   "cell_type": "code",
   "execution_count": null,
   "metadata": {},
   "outputs": [],
   "source": [
    "#Initialize Sentiment Analyzer\n",
    "from vaderSentiment.vaderSentiment import SentimentIntensityAnalyzer\n",
    "analyzer = SentimentIntensityAnalyzer()\n",
    "\n",
    "#Import the keys\n",
    "from config import (consumer_key, consumer_secret,\n",
    "                   access_token, access_token_secret)\n",
    "\n",
    "# Twitter API Keys\n",
    "#consumer_key = \"lQDyO9LHsHV7rw12KbBGP2H4S\"\n",
    "#consumer_secret = \"SrjdhJcNqJUsnMckBdp9vICDSXS8udXvEJr1iZQKKgMmyp4rsS\"\n",
    "#access_token = \"1007989024773074944-XZqI1XqtOjXdGDZlEMlftuNkRQbCVe\"\n",
    "#access_token_secret = \"58vmGsdNdKv7dXmc1NfMs7VfnbGarNgelr4IGnQf6bLjj\"\n",
    "\n",
    "# Setup Tweepy API Authentication\n",
    "auth = tweepy.OAuthHandler(consumer_key, consumer_secret)\n",
    "auth.set_access_token(access_token, access_token_secret)\n",
    "api = tweepy.API(auth, parser=tweepy.parsers.JSONParser())"
   ]
  },
  {
   "cell_type": "code",
   "execution_count": null,
   "metadata": {},
   "outputs": [],
   "source": [
    "def getNewsSentiment(search='@bbc', tweet_count=1):\n",
    "    #print(f\"getNewsSentiment, {search} {tweet_count}\")\n",
    "    api = tweepy.API(auth)\n",
    "    # Variables for holding sentiments\n",
    "    #tweet_source_list = []\n",
    "    sentiment_list = []\n",
    "    compound_list = []\n",
    "    positive_list = []\n",
    "    negative_list = []\n",
    "    neutral_list = []\n",
    "    tweets_ago = []    \n",
    "    \n",
    "    count = 0\n",
    "        \n",
    "    for result in tweepy.Cursor(api.user_timeline, search).items(tweet_count):\n",
    "        sentiment = analyzer.polarity_scores(result._json['text'])\n",
    "        #pprint(result._json)\n",
    "        #tweet_source_list.append(result._json['user']['name'])\n",
    "        sentiment_list.append(result._json['text'])\n",
    "        compound_list.append(sentiment['compound'])\n",
    "        positive_list.append(sentiment['pos'])\n",
    "        negative_list.append(sentiment['neg'])\n",
    "        neutral_list.append(sentiment['neu'])\n",
    "        tweets_ago.append(count)\n",
    "        count += 1\n",
    "    \n",
    "    return pd.DataFrame({'Tweet Source':search,\n",
    "                 'Tweet':sentiment_list,\n",
    "                 'Compound':compound_list,\n",
    "                 'Positive':positive_list, \n",
    "                 'Negative':negative_list, \n",
    "                 'Neutral':neutral_list,\n",
    "                 'Tweets Ago':tweets_ago})"
   ]
  },
  {
   "cell_type": "code",
   "execution_count": null,
   "metadata": {},
   "outputs": [],
   "source": [
    "# Target Search Term\n",
    "news_stations = (\"@BBC\", \"@CBS\", \"@CNN\", \"@Fox\", \"@nytimes\")"
   ]
  },
  {
   "cell_type": "code",
   "execution_count": null,
   "metadata": {},
   "outputs": [],
   "source": [
    "getNewsSentiment(\"@nytimes\", tweet_count=2)"
   ]
  },
  {
   "cell_type": "code",
   "execution_count": null,
   "metadata": {},
   "outputs": [],
   "source": [
    "tweet_count = 100\n",
    "station_feedbacks = []\n",
    "for station in news_stations:\n",
    "    #print(station)\n",
    "    station_feedbacks.append(getNewsSentiment(station, tweet_count))\n",
    "    #print(df)\n",
    "    #station_feedback_df = df = pd.DataFrame.append(station_feedback_df, df, ignore_index=True)\n",
    "\n",
    "len(station_feedbacks)"
   ]
  },
  {
   "cell_type": "code",
   "execution_count": null,
   "metadata": {},
   "outputs": [],
   "source": [
    "count = len(station_feedbacks)\n",
    "merged_df = pd.DataFrame()\n",
    "for i in range(count):\n",
    "    merged_df = pd.DataFrame.append(merged_df, station_feedbacks[i],ignore_index=True)"
   ]
  },
  {
   "cell_type": "code",
   "execution_count": null,
   "metadata": {},
   "outputs": [],
   "source": [
    "Saving the Sentiments into a csv file"
   ]
  },
  {
   "cell_type": "code",
   "execution_count": null,
   "metadata": {},
   "outputs": [],
   "source": [
    "#Saving the csv\n",
    "media_sentiment_filename = f\"NewsMood_{str(time.strftime('%m-%d-%y'))}_Sentiments.csv\"\n",
    "merged_df.to_csv(media_sentiment_filename)"
   ]
  },
  {
   "cell_type": "code",
   "execution_count": null,
   "metadata": {},
   "outputs": [],
   "source": [
    "station_feedbacks[4].head()"
   ]
  },
  {
   "cell_type": "code",
   "execution_count": null,
   "metadata": {},
   "outputs": [],
   "source": [
    "Sentiment Scatter Plot¶"
   ]
  },
  {
   "cell_type": "code",
   "execution_count": null,
   "metadata": {},
   "outputs": [],
   "source": [
    "colors = ['lightcoral', 'green', 'red', 'blue', 'yellow']\n",
    "count = 0\n",
    "\n",
    "for station in station_feedbacks:\n",
    "    plt.scatter(station['Tweets Ago'], \n",
    "                station['Compound'],\n",
    "                c=colors[count],\n",
    "                edgecolor=\"black\", linewidths=1, marker=\"o\",\n",
    "                alpha=1, label=station['Tweet Source'][0].split('@')[1])\n",
    "\n",
    "    count += 1\n",
    "\n",
    "now = datetime.now()\n",
    "now = now.strftime(\"%Y-%m-%d %H:%M\")\n",
    "plt.title(f\"Sentiment Analysis of Media Tweets ({now})\")\n",
    "plt.ylabel(\"Tweet Polarity\")\n",
    "plt.xlabel(\"Tweets Ago\")\n",
    "\n",
    "plt.grid(True)\n",
    "\n",
    "plt.legend(loc=\"upper left\", bbox_to_anchor=(1,1), title=\"Media Sources\")\n",
    "\n",
    "# Saving the img\n",
    "media_sentiment_plot = f\"NewsMood_{str(time.strftime('%m-%d-%y'))}_Sentiment_Scatter_Plot.png\"\n",
    "plt.savefig(media_sentiment_plot, bbox_inches='tight')\n",
    "\n",
    "plt.show()"
   ]
  },
  {
   "cell_type": "code",
   "execution_count": null,
   "metadata": {},
   "outputs": [],
   "source": [
    "Sentiment Bar Plot"
   ]
  },
  {
   "cell_type": "code",
   "execution_count": null,
   "metadata": {},
   "outputs": [],
   "source": [
    "# Group by tweet source and take the average of the compound\n",
    "merged_df_gb = merged_df.groupby(['Tweet Source']).mean()['Compound']\n",
    "\n",
    "av_merged_df = pd.DataFrame(merged_df_gb)"
   ]
  },
  {
   "cell_type": "code",
   "execution_count": null,
   "metadata": {},
   "outputs": [],
   "source": [
    "merged_df_gb"
   ]
  },
  {
   "cell_type": "code",
   "execution_count": null,
   "metadata": {},
   "outputs": [],
   "source": [
    "av_merged_df = av_merged_df.reset_index()"
   ]
  },
  {
   "cell_type": "code",
   "execution_count": null,
   "metadata": {},
   "outputs": [],
   "source": [
    "av_merged_df"
   ]
  },
  {
   "cell_type": "code",
   "execution_count": null,
   "metadata": {},
   "outputs": [],
   "source": [
    "y_axis = av_merged_df['Compound']\n",
    "#x_axis = av_merged_df['Tweet Source']\n",
    "x_axis = [\"BBC\", \"CBS\", \"CNN\", \"Fox\", \"NY Times\"]\n",
    "\n",
    "plt.bar(x_axis, y_axis, \n",
    "        color=['lightcoral', 'green', 'red', 'blue', 'yellow'], alpha=0.5, align=\"center\")\n",
    "\n",
    "now = datetime.now()\n",
    "now = now.strftime(\"%Y-%m-%d %H:%M\")\n",
    "plt.title(f\"Overall Media Sentiment based on Twitter ({now})\")\n",
    "plt.ylabel(\"Tweet Polarity\")\n",
    "\n",
    "# Saving the img\n",
    "av_media_sentiment_bar_plot = f\"NewsMood_{str(time.strftime('%m-%d-%y'))}_Sentiment_Bar_Plot.png\"\n",
    "plt.savefig(av_media_sentiment_bar_plot)\n",
    "\n",
    "plt.show()"
   ]
  }
 ],
 "metadata": {
  "kernelspec": {
   "display_name": "Python 3",
   "language": "python",
   "name": "python3"
  },
  "language_info": {
   "codemirror_mode": {
    "name": "ipython",
    "version": 3
   },
   "file_extension": ".py",
   "mimetype": "text/x-python",
   "name": "python",
   "nbconvert_exporter": "python",
   "pygments_lexer": "ipython3",
   "version": "3.6.5"
  }
 },
 "nbformat": 4,
 "nbformat_minor": 2
}
